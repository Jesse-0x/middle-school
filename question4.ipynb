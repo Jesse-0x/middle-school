{
 "cells": [
  {
   "cell_type": "markdown",
   "source": [
    "# Introduction to Python\n",
    "Python is a programming language that can be used for a wide variety of tasks. It is a popular language for beginners because of its easy-to-read syntax and versatility. Today we will be learning about lists and for loops in Python.\n"
   ],
   "metadata": {
    "collapsed": false
   }
  },
  {
   "cell_type": "markdown",
   "source": [
    "### Lists\n",
    "A list is a collection of items in Python. You can think of it like a grocery list where you have different items that you need to buy. In Python, you can create a list by putting items inside square brackets [ ] and separating them with commas. For example, a list of fruits could look like this:"
   ],
   "metadata": {
    "collapsed": false
   }
  },
  {
   "cell_type": "code",
   "execution_count": null,
   "outputs": [],
   "source": [
    "fruits = [\"apple\", \"banana\", \"orange\"]"
   ],
   "metadata": {
    "collapsed": false
   }
  },
  {
   "cell_type": "markdown",
   "source": [
    "### For Loops\n",
    "A for loop is a way to repeat a block of code for each item in a list. It allows you to perform the same action on each item in the list without having to write the code multiple times. For example, you could use a for loop to print each fruit in the list:\n"
   ],
   "metadata": {
    "collapsed": false
   }
  },
  {
   "cell_type": "code",
   "execution_count": null,
   "outputs": [],
   "source": [
    "for fruit in fruits:\n",
    "    print(fruit)"
   ],
   "metadata": {
    "collapsed": false
   }
  },
  {
   "cell_type": "markdown",
   "source": [
    "This will output:"
   ],
   "metadata": {
    "collapsed": false
   }
  },
  {
   "cell_type": "code",
   "execution_count": null,
   "outputs": [],
   "source": [
    "apple\n",
    "banana\n",
    "orange"
   ],
   "metadata": {
    "collapsed": false
   }
  },
  {
   "cell_type": "markdown",
   "source": [
    "## Code Explanation\n",
    "Now that we have an understanding of lists and for loops, let's take a look at the code that we will be discussing today:"
   ],
   "metadata": {
    "collapsed": false
   }
  },
  {
   "cell_type": "code",
   "execution_count": null,
   "outputs": [],
   "source": [
    "num1 = int(input(\"Please enter the first number: \\n\"))\n",
    "num2 = int(input(\"Please enter the second number: \\n\"))\n",
    "num3 = int(input(\"Please enter the third number: \\n\"))\n",
    "num4 = int(input(\"Please enter the fourth number: \\n\"))\n",
    "\n",
    "list = [num1, num2, num3, num4]\n",
    "\n",
    "sum = 0\n",
    "for item in list:\n",
    "    sum += item\n",
    "\n",
    "print (\"\\nThe sum of the numbers in the list is\", sum)"
   ],
   "metadata": {
    "collapsed": false
   }
  },
  {
   "cell_type": "markdown",
   "source": [
    "### Input Statements\n",
    "The first four lines of the code are input statements. These statements ask the user to enter four different numbers. Each number is stored in a variable named `num1`, `num2`, `num3`, and `num4`."
   ],
   "metadata": {
    "collapsed": false
   }
  },
  {
   "cell_type": "code",
   "execution_count": null,
   "outputs": [],
   "source": [
    "num1 = int(input(\"Please enter the first number: \\n\"))"
   ],
   "metadata": {
    "collapsed": false
   }
  },
  {
   "cell_type": "markdown",
   "source": [
    "The `input()` function allows the user to enter text into the program. The `int()` function converts the user's input into an integer (a whole number)."
   ],
   "metadata": {
    "collapsed": false
   }
  },
  {
   "cell_type": "markdown",
   "source": [
    "### Creating a List\n",
    "After the user has entered the four numbers, the program creates a `list` called list that includes all four numbers."
   ],
   "metadata": {
    "collapsed": false
   }
  },
  {
   "cell_type": "code",
   "execution_count": null,
   "outputs": [],
   "source": [
    "list = [num1, num2, num3, num4]"
   ],
   "metadata": {
    "collapsed": false
   }
  },
  {
   "cell_type": "markdown",
   "source": [
    "### For Loop\n",
    "The next block of code uses a for loop to add up all the numbers in the list. It starts by setting a variable called `sum` to 0."
   ],
   "metadata": {
    "collapsed": false
   }
  },
  {
   "cell_type": "code",
   "execution_count": null,
   "outputs": [],
   "source": [
    "sum = 0"
   ],
   "metadata": {
    "collapsed": false
   }
  },
  {
   "cell_type": "markdown",
   "source": [
    "The for loop then goes through each item in the list and adds it to the `sum` variable."
   ],
   "metadata": {
    "collapsed": false
   }
  },
  {
   "cell_type": "code",
   "execution_count": null,
   "outputs": [],
   "source": [
    "for item in list:\n",
    "    sum += item"
   ],
   "metadata": {
    "collapsed": false
   }
  },
  {
   "cell_type": "markdown",
   "source": [
    "### Printing the Result\n",
    "Finally, the program prints out the total sum of all the numbers in the list."
   ],
   "metadata": {
    "collapsed": false
   }
  },
  {
   "cell_type": "code",
   "execution_count": null,
   "outputs": [],
   "source": [
    "print (\"\\nThe sum of the numbers in the list is\", sum)"
   ],
   "metadata": {
    "collapsed": false
   }
  },
  {
   "cell_type": "markdown",
   "source": [
    "### Try It Yourself"
   ],
   "metadata": {
    "collapsed": false
   }
  },
  {
   "cell_type": "code",
   "execution_count": null,
   "outputs": [],
   "source": [
    "num1 = int(input(\"Please enter the first number: \\n\"))\n",
    "num2 = int(input(\"Please enter the second number: \\n\"))\n",
    "num3 = int(input(\"Please enter the third number: \\n\"))\n",
    "num4 = int(input(\"Please enter the fourth number: \\n\"))\n",
    "\n",
    "list = [num1, num2, num3, num4]\n",
    "\n",
    "sum = 0\n",
    "for item in list:\n",
    "    sum += item\n",
    "\n",
    "print (\"\\nThe sum of the numbers in the list is\", sum)"
   ],
   "metadata": {
    "collapsed": false
   }
  },
  {
   "cell_type": "markdown",
   "source": [
    "### Extra Credit\n",
    "If you're feeling adventurous, you can try modifying the code to do different things. For example, you could:\n",
    "\n",
    "Change the number of input statements to ask for more or fewer numbers\n",
    "Change the operation to subtract, multiply, or divide the numbers in the list\n",
    "Add a conditional statement to only add up the even or odd numbers in the list"
   ],
   "metadata": {
    "collapsed": false
   }
  },
  {
   "cell_type": "markdown",
   "source": [
    "## Conclusion\n",
    "\n",
    "Congratulations on learning about lists and for loops in Python! These are fundamental concepts in programming and can be applied to many different programming tasks.\n",
    "\n",
    "This program asks the user to enter four numbers, creates a list with those numbers, and then adds up the numbers in the list to get the total sum.\n",
    "\n",
    "Remember, Python is a powerful tool that can be used for many different tasks. With the knowledge you've gained today, you're well on your way to becoming a Python programming expert!"
   ],
   "metadata": {
    "collapsed": false
   }
  }
 ],
 "metadata": {
  "kernelspec": {
   "display_name": "Python 3",
   "language": "python",
   "name": "python3"
  },
  "language_info": {
   "codemirror_mode": {
    "name": "ipython",
    "version": 2
   },
   "file_extension": ".py",
   "mimetype": "text/x-python",
   "name": "python",
   "nbconvert_exporter": "python",
   "pygments_lexer": "ipython2",
   "version": "2.7.6"
  }
 },
 "nbformat": 4,
 "nbformat_minor": 0
}
