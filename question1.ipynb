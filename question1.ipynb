{
 "cells": [
  {
   "cell_type": "markdown",
   "metadata": {
    "collapsed": false
   },
   "source": [
    " # Rock paper scissors\n",
    "Hello Hello! Today we will be doing a rock paper scissors game.  Here is a python code that simulates a rock paper scissors game.  I will be using the random module to generate a random number.\n",
    "\n",
    "And today, your job is try to win all the time.\n",
    "\n",
    "Breaking the rules!\n"
   ]
  },
  {
   "cell_type": "code",
   "execution_count": null,
   "metadata": {
    "collapsed": true
   },
   "outputs": [],
   "source": [
    "import random\n",
    "\n",
    "choices = [\"rock\", \"paper\", \"scissors\"]\n",
    "computer_choice = random.choice(choices)\n",
    "\n",
    "player_choice = input(\"Choose rock, paper, or scissors: \")\n",
    "\n",
    "if player_choice == computer_choice:\n",
    "    print(\"It's a tie!\")\n",
    "elif player_choice == \"rock\" and computer_choice == \"scissors\":\n",
    "    print(\"You win! Rock beats scissors.\")\n",
    "elif player_choice == \"paper\" and computer_choice == \"rock\":\n",
    "    print(\"You win! Paper beats rock.\")\n",
    "elif player_choice == \"scissors\" and computer_choice == \"paper\":\n",
    "    print(\"You win! Scissors beats paper.\")\n",
    "else:\n",
    "    print(\"Sorry, you lose. The computer chose\", computer_choice + \".\")\n"
   ]
  },
  {
   "cell_type": "markdown",
   "metadata": {
    "collapsed": false
   },
   "source": [
    "### Break down the codes\n",
    "\n",
    "Lets read this code line by line"
   ]
  },
  {
   "cell_type": "code",
   "execution_count": null,
   "metadata": {
    "collapsed": false
   },
   "outputs": [],
   "source": [
    "import random"
   ]
  },
  {
   "attachments": {},
   "cell_type": "markdown",
   "metadata": {
    "collapsed": false
   },
   "source": [
    "This is the first line of code, we are importing the random module.  This module will help us generate a random number.  We will be using this module to generate a random choice for the computer.\n",
    "\n",
    "A module is just like a toolbox with a lot of different tools. It is a file that contains a set of functions (tools) you want to include in your application.\n",
    "\n",
    "![](https://cdn.britannica.com/51/122851-050-19501A1C/hand-tools-toolbox.jpg)"
   ]
  },
  {
   "cell_type": "code",
   "execution_count": null,
   "metadata": {
    "collapsed": false
   },
   "outputs": [],
   "source": [
    "choices = [\"rock\", \"paper\", \"scissors\"]\n",
    "computer_choice = random.choice(choices)"
   ]
  },
  {
   "cell_type": "markdown",
   "metadata": {
    "collapsed": false
   },
   "source": [
    "Here we are creating a list of choices.  We are also using the random.choice() function to generate a random choice from the list.  We are storing the random choice in the variable computer_choice.\n",
    "\n",
    "The random.choice() function returns a random item from a list, tuple, or string.\n",
    "\n",
    "A list is a collection which is ordered and changeable. In Python lists are written with square brackets."
   ]
  },
  {
   "cell_type": "code",
   "execution_count": null,
   "metadata": {
    "collapsed": false
   },
   "outputs": [],
   "source": [
    "player_choice = input(\"Choose rock, paper, or scissors: \")"
   ]
  },
  {
   "cell_type": "markdown",
   "metadata": {
    "collapsed": false
   },
   "source": [
    "Here we are asking the user to input their choice.  We are storing the user input in the variable player_choice.\n",
    "\n",
    "The input() function allows user input.  The message in the parenthesis is the prompt, which is the message before the user inputs their choice."
   ]
  },
  {
   "cell_type": "code",
   "execution_count": null,
   "metadata": {
    "collapsed": false
   },
   "outputs": [],
   "source": [
    "if player_choice == computer_choice:\n",
    "    print(\"It's a tie!\")\n",
    "elif player_choice == \"rock\" and computer_choice == \"scissors\":\n",
    "    print(\"You win! Rock beats scissors.\")\n",
    "elif player_choice == \"paper\" and computer_choice == \"rock\":\n",
    "    print(\"You win! Paper beats rock.\")\n",
    "elif player_choice == \"scissors\" and computer_choice == \"paper\":\n",
    "    print(\"You win! Scissors beats paper.\")\n",
    "else:\n",
    "    print(\"Sorry, you lose. The computer chose\", computer_choice + \".\")"
   ]
  },
  {
   "cell_type": "markdown",
   "metadata": {
    "collapsed": false
   },
   "source": [
    "Here we are using the if, elif, and else statements to determine the winner.\n",
    "If the player choice is the same as the computer choice, then it is a tie.\n",
    "If the player choice is rock and the computer choice is scissors, then the player wins.\n",
    "If the player choice is paper and the computer choice is rock, then the player wins.\n",
    "If the player choice is scissors and the computer choice is paper, then the player wins.\n",
    "If none of the above conditions are met, then the player loses.\n",
    "\n",
    "The if statement is used to check if a condition is true.  If the condition is true, then the code in the if block will be executed.  If the condition is false, then the code in the if block will be skipped.\n",
    "\n",
    "The elif statement is used to check if a condition is true.  If the condition is true, then the code in the elif block will be executed.  If the condition is false, then the code in the elif block will be skipped.\n",
    "\n",
    "The else statement is used to execute a block of code when all the conditions are false.\n",
    "\n",
    "The code after the if statement is a boolean expression.  A boolean expression is an expression that is either true or false.  The boolean expression is evaluated, and if the result is true, then the indented code is executed.  If the result is false, then the indented code is skipped.\n",
    "\n",
    " **Hint Hint Wink Wink**  You can use the == operator to check if two values are equal. Or you can use the != operator to check if two values are not equal."
   ]
  },
  {
   "cell_type": "markdown",
   "metadata": {
    "collapsed": false
   },
   "source": [
    "### Try it out!\n",
    "\n",
    "Try to win all the time.\n",
    "Change the following code and runs it to see if you can win all the time."
   ]
  },
  {
   "cell_type": "code",
   "execution_count": null,
   "metadata": {
    "collapsed": false
   },
   "outputs": [],
   "source": [
    "import random\n",
    "\n",
    "choices = [\"rock\", \"paper\", \"scissors\"]\n",
    "computer_choice = random.choice(choices)\n",
    "\n",
    "player_choice = input(\"Choose rock, paper, or scissors: \")\n",
    "\n",
    "if player_choice == computer_choice:\n",
    "    print(\"It's a tie!\")\n",
    "elif player_choice == \"rock\" and computer_choice == \"scissors\":\n",
    "    print(\"You win! Rock beats scissors.\")\n",
    "elif player_choice == \"paper\" and computer_choice == \"rock\":\n",
    "    print(\"You win! Paper beats rock.\")\n",
    "elif player_choice == \"scissors\" and computer_choice == \"paper\":\n",
    "    print(\"You win! Scissors beats paper.\")\n",
    "else:\n",
    "    print(\"Sorry, you lose. The computer chose\", computer_choice + \".\")\n"
   ]
  },
  {
   "cell_type": "markdown",
   "metadata": {
    "collapsed": false
   },
   "source": [
    "### Extra Credit\n",
    "\n",
    "1. Try to add a feature that allows the user to play again.\n",
    "2. Try to add a feature that keeps track of the score.\n",
    "3. Try to make the game \"unbeatable\".\n",
    "4. Try to make the game \"un breakable\"."
   ]
  }
 ],
 "metadata": {
  "kernelspec": {
   "display_name": "Python 3",
   "language": "python",
   "name": "python3"
  },
  "language_info": {
   "codemirror_mode": {
    "name": "ipython",
    "version": 2
   },
   "file_extension": ".py",
   "mimetype": "text/x-python",
   "name": "python",
   "nbconvert_exporter": "python",
   "pygments_lexer": "ipython2",
   "version": "2.7.6"
  }
 },
 "nbformat": 4,
 "nbformat_minor": 0
}
