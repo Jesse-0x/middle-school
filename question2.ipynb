{
 "cells": [
  {
   "attachments": {},
   "cell_type": "markdown",
   "metadata": {},
   "source": [
    " ### Guess number game\n",
    "What's up! In this lesson we will do a guess number game.  Here is a python code that simulates a guess number game.  I will be using the random module again to generate a random number."
   ]
  },
  {
   "cell_type": "code",
   "execution_count": null,
   "metadata": {},
   "outputs": [],
   "source": [
    "# guess number game\n",
    "import random\n",
    "\n",
    "random_number = random.randint(1, 10)\n",
    "\n",
    "guess = int(input(\"Guess a number between 1 and 10: \"))\n",
    "while guess != random_number:\n",
    "    if guess < random_number:\n",
    "        print(\"Too low!\")\n",
    "    else:\n",
    "        print(\"Too high!\")\n",
    "    guess = int(input(\"Guess again: \"))\n",
    "\n",
    "print(\"You win!\")"
   ]
  },
  {
   "cell_type": "markdown",
   "source": [
    "### Break down the code\n",
    "    The code is pretty simple.\n",
    "    We use the random module to generate a random number between 1 and 10."
   ],
   "metadata": {
    "collapsed": false
   }
  },
  {
   "cell_type": "code",
   "execution_count": null,
   "outputs": [],
   "source": [
    "# guess number game\n",
    "import random\n",
    "\n",
    "random_number = random.randint(1, 10)"
   ],
   "metadata": {
    "collapsed": false
   }
  },
  {
   "cell_type": "markdown",
   "source": [
    "Then we will ask the user to guess a number between 1 and 10.\n",
    "\n",
    "Same as the last lesson, we will use the int() function to convert the input to an integer."
   ],
   "metadata": {
    "collapsed": false
   }
  },
  {
   "cell_type": "code",
   "execution_count": null,
   "outputs": [],
   "source": [
    "guess = int(input(\"Guess a number between 1 and 10: \"))"
   ],
   "metadata": {
    "collapsed": false
   }
  },
  {
   "cell_type": "markdown",
   "source": [
    "And now, after we save the user's input to the guess variable, we will use a while loop to keep asking the user to guess a number until they guess the correct number.\n",
    "\n",
    "#### What is a while look\n",
    "A while loop is a loop that will keep running until a condition is met.\n",
    " In this case, the condition is when the user guesses the correct number.\n",
    " The while loop will keep asking the user to guess a number until the user guesses the correct number.\n",
    "\n",
    "Here is the code:"
   ],
   "metadata": {
    "collapsed": false
   }
  },
  {
   "cell_type": "code",
   "execution_count": null,
   "outputs": [],
   "source": [
    "while guess != random_number:\n",
    "    if guess < random_number:\n",
    "        print(\"Too low!\")\n",
    "    else:\n",
    "        print(\"Too high!\")\n",
    "    guess = int(input(\"Guess again: \"))"
   ],
   "metadata": {
    "collapsed": false
   }
  },
  {
   "cell_type": "markdown",
   "source": [
    "This cde is pretty simple.  We use a while loop to keep asking the user to guess a number until the user guesses the correct number.\n",
    "And the while loop will keep asking the user to guess a number until the user guesses the correct number."
   ],
   "metadata": {
    "collapsed": false
   }
  },
  {
   "cell_type": "markdown",
   "source": [
    "### Try it yourself\n",
    "\n",
    "Try to change this game to win everytime."
   ],
   "metadata": {
    "collapsed": false
   }
  },
  {
   "cell_type": "code",
   "execution_count": null,
   "outputs": [],
   "source": [
    "# guess number game\n",
    "import random\n",
    "\n",
    "random_number = random.randint(1, 10)\n",
    "\n",
    "guess = int(input(\"Guess a number between 1 and 10: \"))\n",
    "while guess != random_number:\n",
    "    if guess < random_number:\n",
    "        print(\"Too low!\")\n",
    "    else:\n",
    "        print(\"Too high!\")\n",
    "    guess = int(input(\"Guess again: \"))\n",
    "print(\"You win!\")"
   ],
   "metadata": {
    "collapsed": false
   }
  },
  {
   "cell_type": "markdown",
   "source": [
    "### Extra credit\n",
    "Try to make the game more interesting by adding more features.\n"
   ],
   "metadata": {
    "collapsed": false
   }
  }
 ],
 "metadata": {
  "kernelspec": {
   "display_name": "Python 3",
   "language": "python",
   "name": "python3"
  },
  "language_info": {
   "name": "python",
   "version": "3.10.6"
  },
  "orig_nbformat": 4
 },
 "nbformat": 4,
 "nbformat_minor": 2
}
